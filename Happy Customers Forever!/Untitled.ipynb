{
 "cells": [
  {
   "cell_type": "code",
   "execution_count": 1,
   "metadata": {},
   "outputs": [],
   "source": [
    "import pandas as pd\n",
    "df2 = pd.read_csv(\"all_bank_reviews.csv\", delimiter=\"|\")"
   ]
  },
  {
   "cell_type": "code",
   "execution_count": 2,
   "metadata": {},
   "outputs": [
    {
     "data": {
      "text/html": [
       "<div>\n",
       "<style scoped>\n",
       "    .dataframe tbody tr th:only-of-type {\n",
       "        vertical-align: middle;\n",
       "    }\n",
       "\n",
       "    .dataframe tbody tr th {\n",
       "        vertical-align: top;\n",
       "    }\n",
       "\n",
       "    .dataframe thead th {\n",
       "        text-align: right;\n",
       "    }\n",
       "</style>\n",
       "<table border=\"1\" class=\"dataframe\">\n",
       "  <thead>\n",
       "    <tr style=\"text-align: right;\">\n",
       "      <th></th>\n",
       "      <th>Bank</th>\n",
       "      <th>Issue Type</th>\n",
       "      <th>Title</th>\n",
       "      <th>Review</th>\n",
       "      <th>Name</th>\n",
       "      <th>Place</th>\n",
       "      <th>Date</th>\n",
       "    </tr>\n",
       "  </thead>\n",
       "  <tbody>\n",
       "    <tr>\n",
       "      <th>0</th>\n",
       "      <td>Indian Bank</td>\n",
       "      <td>Saving Account</td>\n",
       "      <td>\"Good\"</td>\n",
       "      <td>In Bank of In...</td>\n",
       "      <td>AR</td>\n",
       "      <td>, new delhi</td>\n",
       "      <td>Reviewed ...</td>\n",
       "    </tr>\n",
       "    <tr>\n",
       "      <th>1</th>\n",
       "      <td>Indian Bank</td>\n",
       "      <td>Saving Account</td>\n",
       "      <td>\"Good Service\"</td>\n",
       "      <td>I am holding ...</td>\n",
       "      <td>D</td>\n",
       "      <td>, bangalore</td>\n",
       "      <td>Reviewed ...</td>\n",
       "    </tr>\n",
       "    <tr>\n",
       "      <th>2</th>\n",
       "      <td>Indian Bank</td>\n",
       "      <td>Saving Account</td>\n",
       "      <td>\"Good bank for middle class people\"</td>\n",
       "      <td>5 years ago, ...</td>\n",
       "      <td>ANONYMS</td>\n",
       "      <td>, coimbatore</td>\n",
       "      <td>Reviewed ...</td>\n",
       "    </tr>\n",
       "    <tr>\n",
       "      <th>3</th>\n",
       "      <td>Indian Bank</td>\n",
       "      <td>Saving Account</td>\n",
       "      <td>\"Superb bank\"</td>\n",
       "      <td>I got my savi...</td>\n",
       "      <td>MANI</td>\n",
       "      <td>, chennai</td>\n",
       "      <td>Reviewed ...</td>\n",
       "    </tr>\n",
       "    <tr>\n",
       "      <th>4</th>\n",
       "      <td>Indian Bank</td>\n",
       "      <td>Other Loan</td>\n",
       "      <td>\"Useful bank\"</td>\n",
       "      <td>Using my Indi...</td>\n",
       "      <td>KAMALA</td>\n",
       "      <td>, chennai</td>\n",
       "      <td>Reviewed ...</td>\n",
       "    </tr>\n",
       "  </tbody>\n",
       "</table>\n",
       "</div>"
      ],
      "text/plain": [
       "          Bank       Issue Type                                Title  \\\n",
       "0  Indian Bank   Saving Account                               \"Good\"   \n",
       "1  Indian Bank   Saving Account                       \"Good Service\"   \n",
       "2  Indian Bank   Saving Account  \"Good bank for middle class people\"   \n",
       "3  Indian Bank   Saving Account                        \"Superb bank\"   \n",
       "4  Indian Bank       Other Loan                        \"Useful bank\"   \n",
       "\n",
       "                                              Review     Name  \\\n",
       "0                                   In Bank of In...       AR   \n",
       "1                                   I am holding ...        D   \n",
       "2                                   5 years ago, ...  ANONYMS   \n",
       "3                                   I got my savi...     MANI   \n",
       "4                                   Using my Indi...   KAMALA   \n",
       "\n",
       "                                               Place  \\\n",
       "0                                        , new delhi   \n",
       "1                                        , bangalore   \n",
       "2                                       , coimbatore   \n",
       "3                                          , chennai   \n",
       "4                                          , chennai   \n",
       "\n",
       "                                                Date  \n",
       "0                                       Reviewed ...  \n",
       "1                                       Reviewed ...  \n",
       "2                                       Reviewed ...  \n",
       "3                                       Reviewed ...  \n",
       "4                                       Reviewed ...  "
      ]
     },
     "execution_count": 2,
     "metadata": {},
     "output_type": "execute_result"
    }
   ],
   "source": [
    "df2.head()"
   ]
  },
  {
   "cell_type": "code",
   "execution_count": 3,
   "metadata": {},
   "outputs": [],
   "source": [
    "import re\n",
    "for i in range(0, len(df2['Review'])):\n",
    "    df2['Review'][i] = re.sub(' +', ' ', df2['Review'][i])\n",
    "    df2['Title'][i] = re.sub(' +', ' ', df2['Title'][i])\n",
    "    df2['Name'][i] = re.sub(' +', ' ', str(df2['Name'][i]))\n",
    "    df2['Place'][i] = re.sub(' +', ' ', df2['Place'][i])\n",
    "    df2['Date'][i] = re.sub(' +', ' ', df2['Date'][i])\n",
    "    df2['Place'][i] = df2['Place'][i].replace(',', '')\n",
    "    df2[\"Title\"][i] = df2['Title'][i].replace('\"', '')\n",
    "    df2[\"Date\"][i] = df2['Date'][i].replace('Reviewed on ', '')"
   ]
  },
  {
   "cell_type": "code",
   "execution_count": 4,
   "metadata": {},
   "outputs": [
    {
     "data": {
      "text/html": [
       "<div>\n",
       "<style scoped>\n",
       "    .dataframe tbody tr th:only-of-type {\n",
       "        vertical-align: middle;\n",
       "    }\n",
       "\n",
       "    .dataframe tbody tr th {\n",
       "        vertical-align: top;\n",
       "    }\n",
       "\n",
       "    .dataframe thead th {\n",
       "        text-align: right;\n",
       "    }\n",
       "</style>\n",
       "<table border=\"1\" class=\"dataframe\">\n",
       "  <thead>\n",
       "    <tr style=\"text-align: right;\">\n",
       "      <th></th>\n",
       "      <th>Bank</th>\n",
       "      <th>Issue Type</th>\n",
       "      <th>Title</th>\n",
       "      <th>Review</th>\n",
       "      <th>Name</th>\n",
       "      <th>Place</th>\n",
       "      <th>Date</th>\n",
       "    </tr>\n",
       "  </thead>\n",
       "  <tbody>\n",
       "    <tr>\n",
       "      <th>0</th>\n",
       "      <td>Indian Bank</td>\n",
       "      <td>Saving Account</td>\n",
       "      <td>Good</td>\n",
       "      <td>In Bank of India I am holding a saving accoun...</td>\n",
       "      <td>AR</td>\n",
       "      <td>new delhi</td>\n",
       "      <td>Aug 30, 2019</td>\n",
       "    </tr>\n",
       "    <tr>\n",
       "      <th>1</th>\n",
       "      <td>Indian Bank</td>\n",
       "      <td>Saving Account</td>\n",
       "      <td>Good Service</td>\n",
       "      <td>I am holding a savings account with INDIAN BA...</td>\n",
       "      <td>D</td>\n",
       "      <td>bangalore</td>\n",
       "      <td>Aug 27, 2019</td>\n",
       "    </tr>\n",
       "    <tr>\n",
       "      <th>2</th>\n",
       "      <td>Indian Bank</td>\n",
       "      <td>Saving Account</td>\n",
       "      <td>Good bank for middle class people</td>\n",
       "      <td>5 years ago, taken the savings account from I...</td>\n",
       "      <td>ANONYMS</td>\n",
       "      <td>coimbatore</td>\n",
       "      <td>Aug 27, 2019</td>\n",
       "    </tr>\n",
       "    <tr>\n",
       "      <th>3</th>\n",
       "      <td>Indian Bank</td>\n",
       "      <td>Saving Account</td>\n",
       "      <td>Superb bank</td>\n",
       "      <td>I got my savings account with Indian Bank fro...</td>\n",
       "      <td>MANI</td>\n",
       "      <td>chennai</td>\n",
       "      <td>Aug 26, 2019</td>\n",
       "    </tr>\n",
       "    <tr>\n",
       "      <th>4</th>\n",
       "      <td>Indian Bank</td>\n",
       "      <td>Other Loan</td>\n",
       "      <td>Useful bank</td>\n",
       "      <td>Using my Indian bank salary account for almos...</td>\n",
       "      <td>KAMALA</td>\n",
       "      <td>chennai</td>\n",
       "      <td>Aug 26, 2019</td>\n",
       "    </tr>\n",
       "  </tbody>\n",
       "</table>\n",
       "</div>"
      ],
      "text/plain": [
       "          Bank       Issue Type                              Title  \\\n",
       "0  Indian Bank   Saving Account                               Good   \n",
       "1  Indian Bank   Saving Account                       Good Service   \n",
       "2  Indian Bank   Saving Account  Good bank for middle class people   \n",
       "3  Indian Bank   Saving Account                        Superb bank   \n",
       "4  Indian Bank       Other Loan                        Useful bank   \n",
       "\n",
       "                                              Review     Name         Place  \\\n",
       "0   In Bank of India I am holding a saving accoun...       AR     new delhi   \n",
       "1   I am holding a savings account with INDIAN BA...        D     bangalore   \n",
       "2   5 years ago, taken the savings account from I...  ANONYMS    coimbatore   \n",
       "3   I got my savings account with Indian Bank fro...     MANI       chennai   \n",
       "4   Using my Indian bank salary account for almos...   KAMALA       chennai   \n",
       "\n",
       "            Date  \n",
       "0   Aug 30, 2019  \n",
       "1   Aug 27, 2019  \n",
       "2   Aug 27, 2019  \n",
       "3   Aug 26, 2019  \n",
       "4   Aug 26, 2019  "
      ]
     },
     "execution_count": 4,
     "metadata": {},
     "output_type": "execute_result"
    }
   ],
   "source": [
    "df2.head()"
   ]
  },
  {
   "cell_type": "code",
   "execution_count": 5,
   "metadata": {},
   "outputs": [],
   "source": [
    "df2.to_csv(\"final_bank.csv\", sep = '|')"
   ]
  },
  {
   "cell_type": "code",
   "execution_count": 45,
   "metadata": {},
   "outputs": [
    {
     "name": "stdout",
     "output_type": "stream",
     "text": [
      "function 1\n",
      "function 2\n"
     ]
    }
   ],
   "source": [
    "def fun1():\n",
    "    print(\"function 1\")\n",
    "    def fun2():\n",
    "        print(\"function 2\")\n",
    "    fun2()\n",
    "fun1()"
   ]
  },
  {
   "cell_type": "code",
   "execution_count": 44,
   "metadata": {},
   "outputs": [
    {
     "ename": "NameError",
     "evalue": "name 'fun2' is not defined",
     "output_type": "error",
     "traceback": [
      "\u001b[0;31m---------------------------------------------------------------------------\u001b[0m",
      "\u001b[0;31mNameError\u001b[0m                                 Traceback (most recent call last)",
      "\u001b[0;32m<ipython-input-44-a7e4d4b4ceec>\u001b[0m in \u001b[0;36m<module>\u001b[0;34m\u001b[0m\n\u001b[0;32m----> 1\u001b[0;31m \u001b[0mfun2\u001b[0m\u001b[0;34m(\u001b[0m\u001b[0;34m)\u001b[0m\u001b[0;34m\u001b[0m\u001b[0;34m\u001b[0m\u001b[0m\n\u001b[0m",
      "\u001b[0;31mNameError\u001b[0m: name 'fun2' is not defined"
     ]
    }
   ],
   "source": []
  },
  {
   "cell_type": "code",
   "execution_count": 46,
   "metadata": {},
   "outputs": [
    {
     "name": "stdout",
     "output_type": "stream",
     "text": [
      "sdf\n"
     ]
    }
   ],
   "source": [
    "print(\"sdf\")"
   ]
  },
  {
   "cell_type": "code",
   "execution_count": 47,
   "metadata": {},
   "outputs": [
    {
     "name": "stdout",
     "output_type": "stream",
     "text": [
      "function 1\n",
      "function 2\n"
     ]
    }
   ],
   "source": [
    "fun1()"
   ]
  },
  {
   "cell_type": "code",
   "execution_count": null,
   "metadata": {},
   "outputs": [],
   "source": [
    "df.to_csv"
   ]
  }
 ],
 "metadata": {
  "kernelspec": {
   "display_name": "Python 3",
   "language": "python",
   "name": "python3"
  },
  "language_info": {
   "codemirror_mode": {
    "name": "ipython",
    "version": 3
   },
   "file_extension": ".py",
   "mimetype": "text/x-python",
   "name": "python",
   "nbconvert_exporter": "python",
   "pygments_lexer": "ipython3",
   "version": "3.6.7"
  }
 },
 "nbformat": 4,
 "nbformat_minor": 2
}
