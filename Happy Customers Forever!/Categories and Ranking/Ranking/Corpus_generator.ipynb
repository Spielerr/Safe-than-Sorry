{
 "cells": [
  {
   "cell_type": "code",
   "execution_count": 1,
   "metadata": {},
   "outputs": [],
   "source": [
    "import pandas as pd\n",
    "import re"
   ]
  },
  {
   "cell_type": "code",
   "execution_count": 2,
   "metadata": {},
   "outputs": [],
   "source": [
    "df = pd.read_csv(\"bank_reviews.csv\", sep='|')"
   ]
  },
  {
   "cell_type": "code",
   "execution_count": 3,
   "metadata": {},
   "outputs": [
    {
     "data": {
      "text/html": [
       "<div>\n",
       "<style scoped>\n",
       "    .dataframe tbody tr th:only-of-type {\n",
       "        vertical-align: middle;\n",
       "    }\n",
       "\n",
       "    .dataframe tbody tr th {\n",
       "        vertical-align: top;\n",
       "    }\n",
       "\n",
       "    .dataframe thead th {\n",
       "        text-align: right;\n",
       "    }\n",
       "</style>\n",
       "<table border=\"1\" class=\"dataframe\">\n",
       "  <thead>\n",
       "    <tr style=\"text-align: right;\">\n",
       "      <th></th>\n",
       "      <th>Unnamed: 0</th>\n",
       "      <th>Issue Type</th>\n",
       "      <th>Title</th>\n",
       "      <th>Review</th>\n",
       "      <th>Name</th>\n",
       "      <th>Place</th>\n",
       "      <th>Date</th>\n",
       "    </tr>\n",
       "  </thead>\n",
       "  <tbody>\n",
       "    <tr>\n",
       "      <th>0</th>\n",
       "      <td>0</td>\n",
       "      <td>Saving Account</td>\n",
       "      <td>Good</td>\n",
       "      <td>In Bank of India I am holding a saving account...</td>\n",
       "      <td>AR</td>\n",
       "      <td>new delhi</td>\n",
       "      <td>Aug 30, 2019</td>\n",
       "    </tr>\n",
       "    <tr>\n",
       "      <th>1</th>\n",
       "      <td>1</td>\n",
       "      <td>Saving Account</td>\n",
       "      <td>Good Service</td>\n",
       "      <td>I am holding a savings account with INDIAN BA...</td>\n",
       "      <td>D</td>\n",
       "      <td>bangalore</td>\n",
       "      <td>Aug 27, 2019</td>\n",
       "    </tr>\n",
       "    <tr>\n",
       "      <th>2</th>\n",
       "      <td>2</td>\n",
       "      <td>Saving Account</td>\n",
       "      <td>Good bank for middle class people</td>\n",
       "      <td>5 years ago, taken the savings account from I...</td>\n",
       "      <td>ANONYMS</td>\n",
       "      <td>coimbatore</td>\n",
       "      <td>Aug 27, 2019</td>\n",
       "    </tr>\n",
       "    <tr>\n",
       "      <th>3</th>\n",
       "      <td>3</td>\n",
       "      <td>Saving Account</td>\n",
       "      <td>Superb bank</td>\n",
       "      <td>I got my savings account with Indian Bank fro...</td>\n",
       "      <td>MANI</td>\n",
       "      <td>chennai</td>\n",
       "      <td>Aug 26, 2019</td>\n",
       "    </tr>\n",
       "    <tr>\n",
       "      <th>4</th>\n",
       "      <td>4</td>\n",
       "      <td>Other Loan</td>\n",
       "      <td>Useful bank</td>\n",
       "      <td>Using my Indian bank salary account for almos...</td>\n",
       "      <td>KAMALA</td>\n",
       "      <td>chennai</td>\n",
       "      <td>Aug 26, 2019</td>\n",
       "    </tr>\n",
       "  </tbody>\n",
       "</table>\n",
       "</div>"
      ],
      "text/plain": [
       "   Unnamed: 0       Issue Type                              Title  \\\n",
       "0           0   Saving Account                               Good   \n",
       "1           1   Saving Account                       Good Service   \n",
       "2           2   Saving Account  Good bank for middle class people   \n",
       "3           3   Saving Account                        Superb bank   \n",
       "4           4       Other Loan                        Useful bank   \n",
       "\n",
       "                                              Review     Name         Place  \\\n",
       "0  In Bank of India I am holding a saving account...       AR     new delhi   \n",
       "1   I am holding a savings account with INDIAN BA...        D     bangalore   \n",
       "2   5 years ago, taken the savings account from I...  ANONYMS    coimbatore   \n",
       "3   I got my savings account with Indian Bank fro...     MANI       chennai   \n",
       "4   Using my Indian bank salary account for almos...   KAMALA       chennai   \n",
       "\n",
       "            Date  \n",
       "0   Aug 30, 2019  \n",
       "1   Aug 27, 2019  \n",
       "2   Aug 27, 2019  \n",
       "3   Aug 26, 2019  \n",
       "4   Aug 26, 2019  "
      ]
     },
     "execution_count": 3,
     "metadata": {},
     "output_type": "execute_result"
    }
   ],
   "source": [
    "df.head()"
   ]
  },
  {
   "cell_type": "code",
   "execution_count": 4,
   "metadata": {},
   "outputs": [],
   "source": [
    "f = open('corpus.txt', 'w+')\n",
    "for i in df['Review']:\n",
    "    f.write(str(i))"
   ]
  },
  {
   "cell_type": "code",
   "execution_count": 5,
   "metadata": {},
   "outputs": [
    {
     "data": {
      "text/plain": [
       "1422121"
      ]
     },
     "execution_count": 5,
     "metadata": {},
     "output_type": "execute_result"
    }
   ],
   "source": [
    "with open('corpus.txt', 'rt') as sourceFile:\n",
    "    content = sourceFile.read()\n",
    "f2 = open(\"corpus2.txt\", \"w+\")\n",
    "pattern = re.compile('[\\W_]+')\n",
    "f2.write(pattern.sub(' ', re.sub(' +', ' ', content.replace('\\n',' '))))"
   ]
  },
  {
   "cell_type": "code",
   "execution_count": null,
   "metadata": {},
   "outputs": [],
   "source": []
  }
 ],
 "metadata": {
  "kernelspec": {
   "display_name": "Python 3",
   "language": "python",
   "name": "python3"
  },
  "language_info": {
   "codemirror_mode": {
    "name": "ipython",
    "version": 3
   },
   "file_extension": ".py",
   "mimetype": "text/x-python",
   "name": "python",
   "nbconvert_exporter": "python",
   "pygments_lexer": "ipython3",
   "version": "3.6.7"
  }
 },
 "nbformat": 4,
 "nbformat_minor": 2
}
